{
 "cells": [
  {
   "cell_type": "markdown",
   "metadata": {},
   "source": [
    "# Import some packages\n",
    "\n",
    "You should load packages you may need in this project first"
   ]
  },
  {
   "cell_type": "code",
   "execution_count": 1,
   "metadata": {
    "scrolled": true
   },
   "outputs": [
    {
     "name": "stderr",
     "output_type": "stream",
     "text": [
      "Using TensorFlow backend.\n"
     ]
    }
   ],
   "source": [
    "import skimage.io\n",
    "import skimage.color\n",
    "import skimage.transform\n",
    "import matplotlib.pyplot as plt\n",
    "%matplotlib inline\n",
    "\n",
    "import numpy as np\n",
    "import os\n",
    "import random\n",
    "\n",
    "import keras\n",
    "from keras.datasets import mnist\n",
    "from keras.models import Sequential\n",
    "from keras.layers import Dense, Dropout, Flatten\n",
    "from keras.layers import Conv2D, MaxPooling2D\n",
    "from keras import backend as K"
   ]
  },
  {
   "cell_type": "markdown",
   "metadata": {},
   "source": [
    "# Load character data from the dataset subfolder\n"
   ]
  },
  {
   "cell_type": "code",
   "execution_count": 2,
   "metadata": {
    "scrolled": true
   },
   "outputs": [],
   "source": [
    "DATASET_DIR = 'D:\\Y3S2\\workshop\\Project6\\File for students-20200430\\dataset'\n",
    "classes = os.listdir(DATASET_DIR)\n",
    "data = []\n",
    "for cls in classes:\n",
    "    files = os.listdir(DATASET_DIR+\"/\"+cls)\n",
    "    for f in files:\n",
    "        img = skimage.io.imread(DATASET_DIR + \"/\"+cls+\"/\"+f)\n",
    "        img = skimage.color.rgb2gray(img)\n",
    "        data.append({\n",
    "            'x': img,\n",
    "            'y': cls\n",
    "        })\n",
    "\n",
    "random.shuffle(data)"
   ]
  },
  {
   "cell_type": "markdown",
   "metadata": {},
   "source": [
    "# create train data set and test data set \n",
    "Using 80/20 rule, 80 precent for trainning, and 20 percent for testing."
   ]
  },
  {
   "cell_type": "code",
   "execution_count": 3,
   "metadata": {},
   "outputs": [],
   "source": [
    "X = [d['x'] for d in data]\n",
    "y = [d['y'] for d in data]\n",
    "\n",
    "ys = list(np.unique(y))\n",
    "y = [ys.index(v) for v in y]\n",
    "\n",
    "x_train = np.array(X[:int(len(X)*0.8)])\n",
    "y_train = np.array(y[:int(len(X)*0.8)])\n",
    "\n",
    "x_test = np.array(X[int(len(X)*0.8):])\n",
    "y_test = np.array(y[int(len(X)*0.8):])"
   ]
  },
  {
   "cell_type": "markdown",
   "metadata": {},
   "source": [
    "# Examming and Understand data set for trainning\n"
   ]
  },
  {
   "cell_type": "code",
   "execution_count": 4,
   "metadata": {},
   "outputs": [
    {
     "name": "stdout",
     "output_type": "stream",
     "text": [
      "[[  0.   2.   3.   0.   3.   0.   0.  30.   2.   0.   0.  17.  37.   0.\n",
      "    0.   1.   0.   2.   0.   0.]\n",
      " [  2.   0.   0.   1.   0.   0. 112. 221.  50.   3.  16. 176. 255.   1.\n",
      "    0.   0.   0.   1.   0.   0.]\n",
      " [  0.   0.   3.   1.   1.   0. 240. 254. 114.   2.  11. 152. 253.   0.\n",
      "    4.   0.   0.   0.   0.   0.]\n",
      " [  0.   0.   0.   0.   0.   1. 233. 241. 109.   0.   0.   3. 195.   0.\n",
      "    2.   0.   1.   0.   0.   0.]\n",
      " [  0.   0.   1.   1.   0.   0.   0.   2.   0.   0.  90. 167. 255.  87.\n",
      "   86.  88.   6.   0.   0.   0.]\n",
      " [  0.   0.   0.   0.   3.   1. 156.   1.   0. 147. 251. 254. 251. 255.\n",
      "  255. 255.  11.   0.   1.   1.]\n",
      " [  2.   0.   2.   1.   0. 157. 253. 181.   4.   5. 255. 146.  14.  14.\n",
      "   93. 255.  14.   0.   1.   1.]\n",
      " [  0.   1.   0.   0.   0.   2. 184. 239.  85.   0. 253. 142.   0.   0.\n",
      "   90. 255.  14.   0.   0.   1.]\n",
      " [  0.   0.   0.   1.   2.   0.   2.  85.   0.   0. 255. 142.   0.   0.\n",
      "   89. 255.  13.   0.   0.   1.]\n",
      " [  0.   3.   2.   0.   0.   0.   0.   0.   1.   0. 254. 138.   0.   0.\n",
      "   90. 253.  14.   0.   0.   0.]\n",
      " [  0.   4.   0.   2.   3.   1.  37.  37.  18.   0. 255. 255. 255. 254.\n",
      "  254. 255.  13.   1.   0.   0.]\n",
      " [  0.   0.   1.   1.   0.   0. 241. 255. 111.   5. 254. 253. 168. 255.\n",
      "  255. 251.  10.   1.   0.   0.]\n",
      " [  3.   0.   0.   1.   0.   6. 242. 255. 118.   0. 255. 167.  15.  64.\n",
      "   65.  66.   4.   0.   0.   0.]\n",
      " [  0.   0.   2.   0.   0.   0. 242. 250. 107.   2. 253. 145.   0.   1.\n",
      "    0.   0.   0.   0.   0.   0.]\n",
      " [  0.   2.   0.   0.   5.   0. 242. 194.   0.  74. 255. 139.   0.   0.\n",
      "    3.   0.   0.   0.   0.   0.]\n",
      " [  1.   0.   0.   1.   0.   0. 244. 188.   0. 220. 254. 138.   4.   0.\n",
      "    0.   0.   0.   1.   0.   0.]\n",
      " [  0.   3.   0.   0.   3.   0. 245. 191.   0. 217. 218.   8.   0.   2.\n",
      "    0.   0.   0.   0.   0.   0.]\n",
      " [  3.   0.   0.   0.   0. 168. 253. 192.  38. 223. 217.   0.   3.   2.\n",
      "    0.   1.   0.   0.   0.   0.]\n",
      " [  0.   1.   0.   3.   0. 165. 255. 192. 139. 255. 218.   2.   0.   0.\n",
      "    5.   0.   0.   0.   0.   0.]\n",
      " [  1.   1.   0.   0.   0.  28. 243.  28. 140. 255.  32.   0.   1.   0.\n",
      "    0.   1.   0.   0.   0.   0.]]\n",
      "[43  7 31 ... 51 17 22]\n",
      "12920\n"
     ]
    }
   ],
   "source": [
    "# you may print out some infomation about train data set \n",
    "print(x_train[0])\n",
    "print(y_train)\n",
    "print(len(y_train))"
   ]
  },
  {
   "cell_type": "markdown",
   "metadata": {},
   "source": [
    "# Decide a few parameters for trainning\n",
    "\n",
    "such as batch size, epochs, image size in rows and colomns, etc."
   ]
  },
  {
   "cell_type": "code",
   "execution_count": 5,
   "metadata": {},
   "outputs": [],
   "source": [
    "batch_size = 128\n",
    "num_classes = len(classes)\n",
    "epochs =  10\n",
    "\n",
    "## input image dimensions\n",
    "img_rows, img_cols = 20, 20"
   ]
  },
  {
   "cell_type": "markdown",
   "metadata": {},
   "source": [
    "# Data normalization"
   ]
  },
  {
   "cell_type": "code",
   "execution_count": 6,
   "metadata": {},
   "outputs": [],
   "source": [
    "def extend_channel(data):\n",
    "    if K.image_data_format() == 'channels_first':\n",
    "        data = data.reshape(data.shape[0], 1, img_rows, img_cols)\n",
    "    else:\n",
    "        data = data.reshape(data.shape[0], img_rows, img_cols, 1)\n",
    "        \n",
    "    return data\n",
    "\n",
    "x_train = extend_channel(x_train)\n",
    "x_test = extend_channel(x_test)\n",
    "\n",
    "input_shape = x_train.shape[1:]"
   ]
  },
  {
   "cell_type": "code",
   "execution_count": 7,
   "metadata": {},
   "outputs": [
    {
     "name": "stdout",
     "output_type": "stream",
     "text": [
      "x_train shape: (12920, 20, 20, 1)\n",
      "12920 train samples\n",
      "3231 test samples\n"
     ]
    }
   ],
   "source": [
    "#keras.utils.to_categorical()\n",
    "x_train = x_train.astype('float32')\n",
    "x_test = x_test.astype('float32')\n",
    "x_train /= 255\n",
    "x_test /= 255\n",
    "print('x_train shape:', x_train.shape)\n",
    "print(x_train.shape[0], 'train samples')\n",
    "print(x_test.shape[0], 'test samples')\n",
    "\n",
    "y_train2 = keras.utils.to_categorical(y_train, num_classes)\n",
    "y_test2 = keras.utils.to_categorical(y_test, num_classes)"
   ]
  },
  {
   "cell_type": "markdown",
   "metadata": {},
   "source": [
    "# Create a CNN model for character recognition\n",
    "\n",
    "This is an important part of this project. You have to create a cnn model using tensorflow and keras to train the data.\n"
   ]
  },
  {
   "cell_type": "code",
   "execution_count": 8,
   "metadata": {},
   "outputs": [
    {
     "name": "stdout",
     "output_type": "stream",
     "text": [
      "WARNING:tensorflow:From D:\\Anaconda3\\lib\\site-packages\\tensorflow\\python\\ops\\resource_variable_ops.py:435: colocate_with (from tensorflow.python.framework.ops) is deprecated and will be removed in a future version.\n",
      "Instructions for updating:\n",
      "Colocations handled automatically by placer.\n"
     ]
    }
   ],
   "source": [
    "model = Sequential()\n",
    "model.add(Conv2D(32, kernel_size=(3, 3),\n",
    "                 activation='relu',\n",
    "                 input_shape=input_shape))\n",
    "model.add(Conv2D(64, (3, 3), activation='relu'))\n",
    "model.add(MaxPooling2D(pool_size=(2, 2)))\n",
    "model.add(Dropout(0.25))\n",
    "model.add(Flatten())\n",
    "model.add(Dense(128, activation='relu'))\n",
    "model.add(Dropout(0.5))\n",
    "model.add(Dense(num_classes, activation='softmax'))\n",
    "\n",
    "model.compile(loss=keras.losses.categorical_crossentropy,\n",
    "              optimizer=keras.optimizers.Adadelta(),\n",
    "              metrics=['accuracy'])"
   ]
  },
  {
   "cell_type": "markdown",
   "metadata": {},
   "source": [
    "# Compile the model"
   ]
  },
  {
   "cell_type": "code",
   "execution_count": 51,
   "metadata": {},
   "outputs": [
    {
     "name": "stdout",
     "output_type": "stream",
     "text": [
      "Model: \"sequential_1\"\n",
      "_________________________________________________________________\n",
      "Layer (type)                 Output Shape              Param #   \n",
      "=================================================================\n",
      "conv2d_1 (Conv2D)            (None, 18, 18, 32)        320       \n",
      "_________________________________________________________________\n",
      "conv2d_2 (Conv2D)            (None, 16, 16, 64)        18496     \n",
      "_________________________________________________________________\n",
      "max_pooling2d_1 (MaxPooling2 (None, 8, 8, 64)          0         \n",
      "_________________________________________________________________\n",
      "dropout_1 (Dropout)          (None, 8, 8, 64)          0         \n",
      "_________________________________________________________________\n",
      "flatten_1 (Flatten)          (None, 4096)              0         \n",
      "_________________________________________________________________\n",
      "dense_1 (Dense)              (None, 128)               524416    \n",
      "_________________________________________________________________\n",
      "dropout_2 (Dropout)          (None, 128)               0         \n",
      "_________________________________________________________________\n",
      "dense_2 (Dense)              (None, 65)                8385      \n",
      "=================================================================\n",
      "Total params: 551,617\n",
      "Trainable params: 551,617\n",
      "Non-trainable params: 0\n",
      "_________________________________________________________________\n"
     ]
    }
   ],
   "source": [
    "model.compile(loss=keras.losses.categorical_crossentropy,\n",
    "              optimizer=keras.optimizers.Adadelta(),\n",
    "              metrics=['accuracy'])\n",
    "model.summary()"
   ]
  },
  {
   "cell_type": "markdown",
   "metadata": {},
   "source": [
    "# Train your model\n"
   ]
  },
  {
   "cell_type": "code",
   "execution_count": 52,
   "metadata": {
    "scrolled": true
   },
   "outputs": [
    {
     "name": "stdout",
     "output_type": "stream",
     "text": [
      "Train on 12920 samples, validate on 3231 samples\n",
      "Epoch 1/10\n",
      "12920/12920 [==============================] - 21s 2ms/step - loss: 0.0550 - accuracy: 0.9849 - val_loss: 0.0997 - val_accuracy: 0.9833\n",
      "Epoch 2/10\n",
      "12920/12920 [==============================] - 23s 2ms/step - loss: 0.0614 - accuracy: 0.9839 - val_loss: 0.1007 - val_accuracy: 0.9824\n",
      "Epoch 3/10\n",
      "12920/12920 [==============================] - 23s 2ms/step - loss: 0.0499 - accuracy: 0.9865 - val_loss: 0.1123 - val_accuracy: 0.9796\n",
      "Epoch 4/10\n",
      "12920/12920 [==============================] - 24s 2ms/step - loss: 0.0571 - accuracy: 0.9839 - val_loss: 0.1006 - val_accuracy: 0.9820\n",
      "Epoch 5/10\n",
      "12920/12920 [==============================] - 23s 2ms/step - loss: 0.0479 - accuracy: 0.9868 - val_loss: 0.1114 - val_accuracy: 0.9802\n",
      "Epoch 6/10\n",
      "12920/12920 [==============================] - 22s 2ms/step - loss: 0.0477 - accuracy: 0.9868 - val_loss: 0.1041 - val_accuracy: 0.9811\n",
      "Epoch 7/10\n",
      "12920/12920 [==============================] - 22s 2ms/step - loss: 0.0434 - accuracy: 0.9874 - val_loss: 0.1099 - val_accuracy: 0.9805\n",
      "Epoch 8/10\n",
      "12920/12920 [==============================] - 22s 2ms/step - loss: 0.0446 - accuracy: 0.9869 - val_loss: 0.1007 - val_accuracy: 0.9833\n",
      "Epoch 9/10\n",
      "12920/12920 [==============================] - 23s 2ms/step - loss: 0.0424 - accuracy: 0.9882 - val_loss: 0.1033 - val_accuracy: 0.9827\n",
      "Epoch 10/10\n",
      "12920/12920 [==============================] - 22s 2ms/step - loss: 0.0405 - accuracy: 0.9889 - val_loss: 0.1077 - val_accuracy: 0.9814\n"
     ]
    }
   ],
   "source": [
    "history = model.fit(x_train, y_train2,\n",
    "          batch_size=batch_size,\n",
    "          epochs=epochs,\n",
    "          verbose=1,\n",
    "          validation_data=(x_test, y_test2))"
   ]
  },
  {
   "cell_type": "markdown",
   "metadata": {},
   "source": [
    "# Visualize training results"
   ]
  },
  {
   "cell_type": "code",
   "execution_count": 57,
   "metadata": {},
   "outputs": [],
   "source": [
    "epochs_range = range(epochs)\n",
    "acc = history.history['accuracy']\n",
    "val_acc = history.history['val_accuracy']\n",
    "loss = history.history['loss']\n",
    "val_loss = history.history['val_loss']"
   ]
  },
  {
   "cell_type": "code",
   "execution_count": 58,
   "metadata": {},
   "outputs": [
    {
     "data": {
      "image/png": "[encoded data removed]",
      "text/plain": [
       "<Figure size 576x576 with 2 Axes>"
      ]
     },
     "metadata": {
      "needs_background": "light"
     },
     "output_type": "display_data"
    }
   ],
   "source": [
    "plt.figure(figsize=(8, 8))\n",
    "plt.subplot(1, 2, 1)\n",
    "plt.plot(epochs_range, acc, label='Training Accuracy')\n",
    "plt.plot(epochs_range, val_acc, label='Validation Accuracy')\n",
    "plt.legend(loc='lower right')\n",
    "plt.title('Training and Validation Accuracy')\n",
    "\n",
    "plt.subplot(1, 2, 2)\n",
    "plt.plot(epochs_range, loss, label='Training Loss')\n",
    "plt.plot(epochs_range, val_loss, label='Validation Loss')\n",
    "plt.legend(loc='upper right')\n",
    "plt.title('Training and Validation Loss')\n",
    "plt.show()"
   ]
  },
  {
   "cell_type": "markdown",
   "metadata": {},
   "source": [
    "# Model Evaluation \n",
    "\n",
    "Evaluate your model with test dataset.\n",
    "\n",
    "make sure your model accuracy should be more than 99 percent. Otherwise, you have to go back to fine tune your model with whatever methods you have learned to improve its accuracy. You have to handle over-fitting or under-fitting problem you may encounter."
   ]
  },
  {
   "cell_type": "code",
   "execution_count": 59,
   "metadata": {
    "scrolled": false
   },
   "outputs": [
    {
     "name": "stdout",
     "output_type": "stream",
     "text": [
      "Test loss: 0.1076758031335557\n",
      "Test accuracy: 0.9814298748970032\n"
     ]
    }
   ],
   "source": [
    "score = model.evaluate(x_test, y_test2, verbose=0)\n",
    "print('Test loss:', score[0])\n",
    "print('Test accuracy:', score[1])"
   ]
  },
  {
   "cell_type": "markdown",
   "metadata": {},
   "source": [
    "# Save your model weights\n",
    "\n",
    "You should save your model for car plate recognition purpose later.\n"
   ]
  },
  {
   "cell_type": "code",
   "execution_count": 13,
   "metadata": {},
   "outputs": [],
   "source": [
    "model.save_weights('char_cnn.h5')"
   ]
  },
  {
   "cell_type": "code",
   "execution_count": null,
   "metadata": {},
   "outputs": [],
   "source": []
  }
 ],
 "metadata": {
  "kernelspec": {
   "display_name": "Python 3",
   "language": "python",
   "name": "python3"
  },
  "language_info": {
   "codemirror_mode": {
    "name": "ipython",
    "version": 3
   },
   "file_extension": ".py",
   "mimetype": "text/x-python",
   "name": "python",
   "nbconvert_exporter": "python",
   "pygments_lexer": "ipython3",
   "version": "3.7.4"
  }
 },
 "nbformat": 4,
 "nbformat_minor": 2
}
