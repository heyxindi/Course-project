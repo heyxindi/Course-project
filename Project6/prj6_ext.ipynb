{
 "cells": [
  {
   "cell_type": "markdown",
   "metadata": {},
   "source": [
    "## Extension of Project 6"
   ]
  },
  {
   "cell_type": "markdown",
   "metadata": {},
   "source": [
    "### Import some packages."
   ]
  },
  {
   "cell_type": "code",
   "execution_count": 1,
   "metadata": {},
   "outputs": [
    {
     "name": "stderr",
     "output_type": "stream",
     "text": [
      "Using TensorFlow backend.\n"
     ]
    }
   ],
   "source": [
    "import skimage.io\n",
    "import skimage.color\n",
    "import skimage.transform\n",
    "import matplotlib.pyplot as plt\n",
    "%matplotlib inline\n",
    "\n",
    "import numpy as np\n",
    "import os\n",
    "import random\n",
    "\n",
    "import keras\n",
    "from keras.datasets import mnist\n",
    "from keras.models import Sequential\n",
    "from keras.layers import Dense, Dropout, Flatten\n",
    "from keras.layers import Conv2D, MaxPooling2D\n",
    "from keras import backend as K"
   ]
  },
  {
   "cell_type": "markdown",
   "metadata": {},
   "source": [
    "### Load character data from the dataset subfolder"
   ]
  },
  {
   "cell_type": "code",
   "execution_count": 2,
   "metadata": {},
   "outputs": [],
   "source": [
    "DATASET_DIR = 'D:\\Y3S2\\workshop\\Project6\\File for students-20200430\\dataset'\n",
    "classes = os.listdir(DATASET_DIR)\n",
    "data = []\n",
    "for cls in classes:\n",
    "    files = os.listdir(DATASET_DIR+\"/\"+cls)\n",
    "    for f in files:\n",
    "        img = skimage.io.imread(DATASET_DIR + \"/\"+cls+\"/\"+f)\n",
    "        img = skimage.color.rgb2gray(img)\n",
    "        data.append({\n",
    "            'x': img,\n",
    "            'y': cls\n",
    "        })\n",
    "\n",
    "random.shuffle(data)"
   ]
  },
  {
   "cell_type": "markdown",
   "metadata": {},
   "source": [
    "### create train data set and test data set"
   ]
  },
  {
   "cell_type": "code",
   "execution_count": 3,
   "metadata": {},
   "outputs": [],
   "source": [
    "X = [d['x'] for d in data]\n",
    "y = [d['y'] for d in data]\n",
    "\n",
    "ys = list(np.unique(y))\n",
    "y = [ys.index(v) for v in y]\n",
    "\n",
    "x_train = np.array(X[:int(len(X)*0.8)])\n",
    "y_train = np.array(y[:int(len(X)*0.8)])\n",
    "\n",
    "x_test = np.array(X[int(len(X)*0.8):])\n",
    "y_test = np.array(y[int(len(X)*0.8):])"
   ]
  },
  {
   "cell_type": "markdown",
   "metadata": {},
   "source": [
    "### Examming and Understand data set for trainning"
   ]
  },
  {
   "cell_type": "code",
   "execution_count": 4,
   "metadata": {},
   "outputs": [
    {
     "name": "stdout",
     "output_type": "stream",
     "text": [
      "[[  0.   0.   1.   0.   0.   2.   0.   0.  15.  66. 209.  61.  64.  13.\n",
      "    3.   0.   0.   0.   0.   0.]\n",
      " [  0.   0.   0.   5.   2.   0.   3. 145. 207. 255. 252. 255. 255. 208.\n",
      "    0.   0.   0.   0.   0.   0.]\n",
      " [  0.   3.   0.   0.   0.   1.  15. 206. 255. 209. 193. 234. 255. 255.\n",
      "   46.   2.   0.   0.   0.   0.]\n",
      " [  4.   0.   1.   1.   0.   0.  67. 254. 207.  17.   0.  54. 255. 253.\n",
      "  190.   0.   0.   0.   0.   0.]\n",
      " [  0.   0.   0.   3.   0.   0. 255. 253. 145.   0.   1.   0.  49. 190.\n",
      "  145.   0.   0.   0.   0.   0.]\n",
      " [  1.   1.   0.   0.   1.   0. 255. 255.   0.   0.   2.   0.   0.   0.\n",
      "    0.   1.   0.   0.   0.   0.]\n",
      " [  0.   0.   1.   0.   3.   0. 252. 255.   2.   0.   0.   3.   0.   0.\n",
      "    5.   0.   0.   0.   0.   0.]\n",
      " [  1.   0.   3.   0.   0.   1. 255. 255.   0.   0.   2.   0.  49.  47.\n",
      "    0.   1.   0.   0.   0.   0.]\n",
      " [  0.   1.   0.   0.   1.   0. 253. 255.   2.  45. 255. 253. 255. 255.\n",
      "  205.  17.   0.   0.   0.   0.]\n",
      " [  0.   2.   0.   0.   0.   2. 255. 255.   0. 193. 255. 253. 255. 255.\n",
      "  254.  63.   0.   0.   0.   0.]\n",
      " [  0.   0.   1.   5.   0.   0. 255. 252.   1.   0. 190. 192. 253. 252.\n",
      "  194.   1.   0.   0.   0.   0.]\n",
      " [  0.   0.   0.   0.   0.   1. 255. 255.   0.   0.   0.   0. 113. 255.\n",
      "  194.   0.   0.   0.   0.   0.]\n",
      " [  1.   0.   0.   0.   5.  50. 250. 255.   0.   1.   0.   2. 252. 254.\n",
      "  192.   2.   0.   0.   0.   0.]\n",
      " [  0.   0.   1.   0.   0. 191. 255. 255.   0.   0.   0.   0. 255. 255.\n",
      "  188.   0.   0.   0.   0.   0.]\n",
      " [  1.   2.   0.   0.   0. 192. 255. 255.   0.   4.   0.   0. 255. 255.\n",
      "  191.   0.   0.   0.   0.   0.]\n",
      " [  0.   1.   0.   2.   0. 192. 255. 255.   1.   0.   1.   0. 255. 254.\n",
      "  192.   0.   0.   0.   0.   0.]\n",
      " [  0.   0.   0.   3.   0. 141. 255. 254.  48.   0.   4.  47. 254. 253.\n",
      "  144.   0.   0.   0.   0.   0.]\n",
      " [  4.   1.   3.   0.   2.   0. 255. 255. 241. 191. 188. 241. 255. 255.\n",
      "    1.   0.   0.   0.   0.   0.]\n",
      " [  0.   0.   0.   2.   2.   0. 205. 255. 253. 255. 254. 255. 237.  50.\n",
      "    0.   3.   0.   0.   0.   0.]\n",
      " [  0.   2.   3.   0.   0.   1.  14. 206. 255. 252. 255. 255.  48.   0.\n",
      "    1.   0.   0.   0.   0.   0.]]\n",
      "[16  9 12 ... 32  7 36]\n",
      "12920\n"
     ]
    }
   ],
   "source": [
    "print(x_train[0])\n",
    "print(y_train)\n",
    "print(len(y_train))"
   ]
  },
  {
   "cell_type": "markdown",
   "metadata": {},
   "source": [
    "### Decide a few parameters for trainning"
   ]
  },
  {
   "cell_type": "code",
   "execution_count": 5,
   "metadata": {},
   "outputs": [],
   "source": [
    "batch_size = 128\n",
    "num_classes = len(classes)\n",
    "epochs =  10\n",
    "\n",
    "## input image dimensions\n",
    "img_rows, img_cols = 20, 20"
   ]
  },
  {
   "cell_type": "markdown",
   "metadata": {},
   "source": [
    "### Data normalization"
   ]
  },
  {
   "cell_type": "code",
   "execution_count": 6,
   "metadata": {},
   "outputs": [],
   "source": [
    "def extend_channel(data):\n",
    "    if K.image_data_format() == 'channels_first':\n",
    "        data = data.reshape(data.shape[0], 1, img_rows, img_cols)\n",
    "    else:\n",
    "        data = data.reshape(data.shape[0], img_rows, img_cols, 1)\n",
    "        \n",
    "    return data\n",
    "\n",
    "x_train = extend_channel(x_train)\n",
    "x_test = extend_channel(x_test)\n",
    "\n",
    "input_shape = x_train.shape[1:]"
   ]
  },
  {
   "cell_type": "code",
   "execution_count": 7,
   "metadata": {},
   "outputs": [
    {
     "name": "stdout",
     "output_type": "stream",
     "text": [
      "x_train shape: (12920, 20, 20, 1)\n",
      "12920 train samples\n",
      "3231 test samples\n"
     ]
    }
   ],
   "source": [
    "#keras.utils.to_categorical()\n",
    "x_train = x_train.astype('float32')\n",
    "x_test = x_test.astype('float32')\n",
    "x_train /= 255\n",
    "x_test /= 255\n",
    "print('x_train shape:', x_train.shape)\n",
    "print(x_train.shape[0], 'train samples')\n",
    "print(x_test.shape[0], 'test samples')\n",
    "\n",
    "y_train2 = keras.utils.to_categorical(y_train, num_classes)\n",
    "y_test2 = keras.utils.to_categorical(y_test, num_classes)"
   ]
  },
  {
   "cell_type": "markdown",
   "metadata": {},
   "source": [
    "## Create a VGG-16model"
   ]
  },
  {
   "cell_type": "code",
   "execution_count": 8,
   "metadata": {
    "scrolled": false
   },
   "outputs": [
    {
     "name": "stdout",
     "output_type": "stream",
     "text": [
      "WARNING:tensorflow:From D:\\Anaconda3\\lib\\site-packages\\tensorflow\\python\\ops\\resource_variable_ops.py:435: colocate_with (from tensorflow.python.framework.ops) is deprecated and will be removed in a future version.\n",
      "Instructions for updating:\n",
      "Colocations handled automatically by placer.\n"
     ]
    }
   ],
   "source": [
    "model = Sequential()\n",
    "    \n",
    "model.add(Conv2D(64,(3,3),strides=(1,1),input_shape=input_shape,padding='same',activation='relu',kernel_initializer='uniform'))\n",
    "model.add(Conv2D(64,(3,3),strides=(1,1),padding='same',activation='relu',kernel_initializer='uniform'))\n",
    "model.add(MaxPooling2D(pool_size=(2,2)))\n",
    "    \n",
    "model.add(Conv2D(128,(3,2),strides=(1,1),padding='same',activation='relu',kernel_initializer='uniform'))\n",
    "model.add(Conv2D(128,(3,3),strides=(1,1),padding='same',activation='relu',kernel_initializer='uniform'))\n",
    "model.add(MaxPooling2D(pool_size=(2,2)))\n",
    "    \n",
    "model.add(Conv2D(256,(3,3),strides=(1,1),padding='same',activation='relu',kernel_initializer='uniform'))\n",
    "model.add(Conv2D(256,(3,3),strides=(1,1),padding='same',activation='relu',kernel_initializer='uniform'))    \n",
    "model.add(Conv2D(256,(3,3),strides=(1,1),padding='same',activation='relu',kernel_initializer='uniform'))\n",
    "model.add(MaxPooling2D(pool_size=(2,2)))\n",
    "\n",
    "model.add(Conv2D(512,(3,3),strides=(1,1),padding='same',activation='relu',kernel_initializer='uniform'))\n",
    "model.add(Conv2D(512,(3,3),strides=(1,1),padding='same',activation='relu',kernel_initializer='uniform'))\n",
    "model.add(Conv2D(512,(3,3),strides=(1,1),padding='same',activation='relu',kernel_initializer='uniform'))\n",
    "model.add(MaxPooling2D(pool_size=(2,2)))\n",
    "    \n",
    "model.add(Flatten())\n",
    "model.add(Dense(4096,activation='relu'))\n",
    "model.add(Dropout(0.5))\n",
    "model.add(Dense(4096,activation='relu'))\n",
    "model.add(Dropout(0.5))\n",
    "model.add(Dense(65,activation='softmax'))\n",
    "model.compile(loss=keras.losses.categorical_crossentropy,\n",
    "              optimizer=keras.optimizers.Adadelta(),\n",
    "              metrics=['accuracy'])"
   ]
  },
  {
   "cell_type": "markdown",
   "metadata": {},
   "source": [
    "### Compile the model"
   ]
  },
  {
   "cell_type": "code",
   "execution_count": 9,
   "metadata": {},
   "outputs": [
    {
     "name": "stdout",
     "output_type": "stream",
     "text": [
      "Model: \"sequential_1\"\n",
      "_________________________________________________________________\n",
      "Layer (type)                 Output Shape              Param #   \n",
      "=================================================================\n",
      "conv2d_1 (Conv2D)            (None, 20, 20, 64)        640       \n",
      "_________________________________________________________________\n",
      "conv2d_2 (Conv2D)            (None, 20, 20, 64)        36928     \n",
      "_________________________________________________________________\n",
      "max_pooling2d_1 (MaxPooling2 (None, 10, 10, 64)        0         \n",
      "_________________________________________________________________\n",
      "conv2d_3 (Conv2D)            (None, 10, 10, 128)       49280     \n",
      "_________________________________________________________________\n",
      "conv2d_4 (Conv2D)            (None, 10, 10, 128)       147584    \n",
      "_________________________________________________________________\n",
      "max_pooling2d_2 (MaxPooling2 (None, 5, 5, 128)         0         \n",
      "_________________________________________________________________\n",
      "conv2d_5 (Conv2D)            (None, 5, 5, 256)         295168    \n",
      "_________________________________________________________________\n",
      "conv2d_6 (Conv2D)            (None, 5, 5, 256)         590080    \n",
      "_________________________________________________________________\n",
      "conv2d_7 (Conv2D)            (None, 5, 5, 256)         590080    \n",
      "_________________________________________________________________\n",
      "max_pooling2d_3 (MaxPooling2 (None, 2, 2, 256)         0         \n",
      "_________________________________________________________________\n",
      "conv2d_8 (Conv2D)            (None, 2, 2, 512)         1180160   \n",
      "_________________________________________________________________\n",
      "conv2d_9 (Conv2D)            (None, 2, 2, 512)         2359808   \n",
      "_________________________________________________________________\n",
      "conv2d_10 (Conv2D)           (None, 2, 2, 512)         2359808   \n",
      "_________________________________________________________________\n",
      "max_pooling2d_4 (MaxPooling2 (None, 1, 1, 512)         0         \n",
      "_________________________________________________________________\n",
      "flatten_1 (Flatten)          (None, 512)               0         \n",
      "_________________________________________________________________\n",
      "dense_1 (Dense)              (None, 4096)              2101248   \n",
      "_________________________________________________________________\n",
      "dropout_1 (Dropout)          (None, 4096)              0         \n",
      "_________________________________________________________________\n",
      "dense_2 (Dense)              (None, 4096)              16781312  \n",
      "_________________________________________________________________\n",
      "dropout_2 (Dropout)          (None, 4096)              0         \n",
      "_________________________________________________________________\n",
      "dense_3 (Dense)              (None, 65)                266305    \n",
      "=================================================================\n",
      "Total params: 26,758,401\n",
      "Trainable params: 26,758,401\n",
      "Non-trainable params: 0\n",
      "_________________________________________________________________\n"
     ]
    }
   ],
   "source": [
    "model.compile(loss=keras.losses.categorical_crossentropy,\n",
    "              optimizer=keras.optimizers.Adadelta(),\n",
    "              metrics=['accuracy'])\n",
    "model.summary()"
   ]
  },
  {
   "cell_type": "markdown",
   "metadata": {},
   "source": [
    "### Train the model"
   ]
  },
  {
   "cell_type": "code",
   "execution_count": 10,
   "metadata": {},
   "outputs": [
    {
     "name": "stdout",
     "output_type": "stream",
     "text": [
      "WARNING:tensorflow:From D:\\Anaconda3\\lib\\site-packages\\tensorflow\\python\\ops\\math_ops.py:3066: to_int32 (from tensorflow.python.ops.math_ops) is deprecated and will be removed in a future version.\n",
      "Instructions for updating:\n",
      "Use tf.cast instead.\n",
      "Train on 12920 samples, validate on 3231 samples\n",
      "Epoch 1/10\n",
      "12920/12920 [==============================] - 347s 27ms/step - loss: 3.8131 - accuracy: 0.0712 - val_loss: 3.6585 - val_accuracy: 0.0690\n",
      "Epoch 2/10\n",
      "12920/12920 [==============================] - 325s 25ms/step - loss: 3.2564 - accuracy: 0.1521 - val_loss: 2.0316 - val_accuracy: 0.3649\n",
      "Epoch 3/10\n",
      "12920/12920 [==============================] - 313s 24ms/step - loss: 1.7369 - accuracy: 0.5011 - val_loss: 1.0426 - val_accuracy: 0.7007\n",
      "Epoch 4/10\n",
      "12920/12920 [==============================] - 312s 24ms/step - loss: 0.7849 - accuracy: 0.7819 - val_loss: 0.4267 - val_accuracy: 0.8731\n",
      "Epoch 5/10\n",
      "12920/12920 [==============================] - 311s 24ms/step - loss: 0.4017 - accuracy: 0.8908 - val_loss: 0.2477 - val_accuracy: 0.9347\n",
      "Epoch 6/10\n",
      "12920/12920 [==============================] - 309s 24ms/step - loss: 0.2635 - accuracy: 0.9298 - val_loss: 0.2071 - val_accuracy: 0.9455\n",
      "Epoch 7/10\n",
      "12920/12920 [==============================] - 310s 24ms/step - loss: 0.1952 - accuracy: 0.9488 - val_loss: 0.1496 - val_accuracy: 0.9591\n",
      "Epoch 8/10\n",
      "12920/12920 [==============================] - 308s 24ms/step - loss: 0.1239 - accuracy: 0.9677 - val_loss: 0.1435 - val_accuracy: 0.9629\n",
      "Epoch 9/10\n",
      "12920/12920 [==============================] - 309s 24ms/step - loss: 0.0861 - accuracy: 0.9782 - val_loss: 0.1258 - val_accuracy: 0.9721\n",
      "Epoch 10/10\n",
      "12920/12920 [==============================] - 317s 25ms/step - loss: 0.0695 - accuracy: 0.9836 - val_loss: 0.1118 - val_accuracy: 0.9749\n"
     ]
    }
   ],
   "source": [
    "history = model.fit(x_train, y_train2,\n",
    "          batch_size=batch_size,\n",
    "          epochs=epochs,\n",
    "          verbose=1,\n",
    "          validation_data=(x_test, y_test2))"
   ]
  },
  {
   "cell_type": "markdown",
   "metadata": {},
   "source": [
    "### Visualize training results"
   ]
  },
  {
   "cell_type": "code",
   "execution_count": 11,
   "metadata": {},
   "outputs": [],
   "source": [
    "epochs_range = range(epochs)\n",
    "acc = history.history['accuracy']\n",
    "val_acc = history.history['val_accuracy']\n",
    "loss = history.history['loss']\n",
    "val_loss = history.history['val_loss']"
   ]
  },
  {
   "cell_type": "code",
   "execution_count": 12,
   "metadata": {},
   "outputs": [
    {
     "data": {
      "image/png": "[encoded data removed]",
      "text/plain": [
       "<Figure size 576x576 with 2 Axes>"
      ]
     },
     "metadata": {
      "needs_background": "light"
     },
     "output_type": "display_data"
    }
   ],
   "source": [
    "plt.figure(figsize=(8, 8))\n",
    "plt.subplot(1, 2, 1)\n",
    "plt.plot(epochs_range, acc, label='Training Accuracy')\n",
    "plt.plot(epochs_range, val_acc, label='Validation Accuracy')\n",
    "plt.legend(loc='lower right')\n",
    "plt.title('Training and Validation Accuracy')\n",
    "\n",
    "plt.subplot(1, 2, 2)\n",
    "plt.plot(epochs_range, loss, label='Training Loss')\n",
    "plt.plot(epochs_range, val_loss, label='Validation Loss')\n",
    "plt.legend(loc='upper right')\n",
    "plt.title('Training and Validation Loss')\n",
    "plt.show()"
   ]
  },
  {
   "cell_type": "markdown",
   "metadata": {},
   "source": [
    "### Model Evaluation"
   ]
  },
  {
   "cell_type": "code",
   "execution_count": 13,
   "metadata": {},
   "outputs": [
    {
     "name": "stdout",
     "output_type": "stream",
     "text": [
      "Test loss: 0.11179707964631624\n",
      "Test accuracy: 0.9749303460121155\n"
     ]
    }
   ],
   "source": [
    "score = model.evaluate(x_test, y_test2, verbose=0)\n",
    "print('Test loss:', score[0])\n",
    "print('Test accuracy:', score[1])"
   ]
  },
  {
   "cell_type": "code",
   "execution_count": 14,
   "metadata": {},
   "outputs": [],
   "source": [
    "model.save_weights('char_cnn_my.h5')"
   ]
  },
  {
   "cell_type": "code",
   "execution_count": null,
   "metadata": {},
   "outputs": [],
   "source": []
  }
 ],
 "metadata": {
  "kernelspec": {
   "display_name": "Python 3",
   "language": "python",
   "name": "python3"
  },
  "language_info": {
   "codemirror_mode": {
    "name": "ipython",
    "version": 3
   },
   "file_extension": ".py",
   "mimetype": "text/x-python",
   "name": "python",
   "nbconvert_exporter": "python",
   "pygments_lexer": "ipython3",
   "version": "3.7.4"
  }
 },
 "nbformat": 4,
 "nbformat_minor": 2
}
